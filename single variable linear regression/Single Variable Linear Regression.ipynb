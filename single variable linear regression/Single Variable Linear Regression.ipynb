{
 "cells": [
  {
   "cell_type": "markdown",
   "id": "competent-detroit",
   "metadata": {},
   "source": [
    "### Theory\n",
    "Regression: It is the prediction of a dependent variable given some independent variable.\n",
    "\n",
    "Example: Given features such as location, experience, cost of living, level of education and role predicting the salaries of employees fall under the category of Regression.\n",
    "\n",
    "It should be noted that before applying any machine learning algorithm, a process called feature selection is done so there exist some form of relationship between the selected features which needs to be found as well as to reduce the number of features on which the model has to be trained on thus reducing complexity and training time.\n",
    "\n",
    "Linear Regression:\n",
    "It falls under supervised learning where training data along with the correct predicted values are required to train the model.\n",
    "\n",
    "In this method we assume that the dependent variable y has a linear relationship with the independent variable x = {x1, x2, …., xn} weighted with w= {w0, w1, w2, …, wn} in form below.\n",
    "\n",
    "                                        y = w0 + w1*x1 + w2*x2+ ……. + wn*xn\n",
    "\n",
    "The weights are called as the regression coefficients which are determined by the machine learning algorithm. w0 is considered as the bias which essentially provides an offset.\n"
   ]
  },
  {
   "cell_type": "markdown",
   "id": "heated-invitation",
   "metadata": {},
   "source": [
    "### Working of Algorithm:\n",
    "\n",
    "Since single variable linear regression is being implemented the relationship is assumed as follows\n",
    "\n",
    "                                        y = w0 + w1*x1\n",
    "\n",
    "when the dependent variable y depends only on the independent variable x1.\n",
    "\n",
    "The algorithm initializes weights w0 and w1 to some random value and calculates the predicted value (yp) which is then used to find the find the error. The Sum of Squared Residuals (SSR) is used so that the error generated is always positive. \n",
    "\n",
    "The SSR error/ cost is given as follows:\n",
    "\n",
    "                                        cost = sum (0.5*(w0 + w1*x1 - y)^2)\n",
    "\n",
    "The constant 0.5 is taken to ease calculations when the derivative of the error is taken.\n",
    "\n",
    "The error e with respect to w0 and w1 is given by the partial derivative of e with respect to w0 and w1.\n",
    "\n",
    "                                        d_w0 = sum (w0 + x1*w_1 - y)\n",
    "                                        d_w1 = sum (x1 * (w0 + x1*w1 - y) )\n",
    "\n",
    "Weights w0 and w1 are then updates as follows\n",
    "\n",
    "                                        w0’ = w0 – alpha * d_w0\n",
    "                                        w1’= w1 – alpha * d_w1\n",
    "                                \n",
    "here w0'and w1'are the new weights and alpha is the learning rate. this method of finding the error and then updating the weights is called as gradient descent and is useful when there are lot of data points.\n",
    "\n",
    "This is done in an iterative manner until the SSR error obtained is sufficiently low.\n",
    "\n",
    "Once optimum values of w0 and w1 are obtained new values of data can be used for prediction."
   ]
  },
  {
   "cell_type": "markdown",
   "id": "continental-acting",
   "metadata": {},
   "source": [
    "## Python implementation"
   ]
  },
  {
   "cell_type": "code",
   "execution_count": 19,
   "id": "boxed-rochester",
   "metadata": {},
   "outputs": [],
   "source": [
    "# importing necessary libraries\n",
    "import numpy as np\n",
    "import matplotlib.pyplot as plt\n",
    "\n",
    "%matplotlib inline"
   ]
  },
  {
   "cell_type": "code",
   "execution_count": 20,
   "id": "solid-attendance",
   "metadata": {},
   "outputs": [
    {
     "data": {
      "image/png": "[encoded data removed]",
      "text/plain": [
       "<Figure size 432x288 with 1 Axes>"
      ]
     },
     "metadata": {
      "needs_background": "light"
     },
     "output_type": "display_data"
    }
   ],
   "source": [
    "# Set the random seed so the program will always generate the same data\n",
    "np.random.seed(0)\n",
    "\n",
    "# Generate n random x values between -5 and 5\n",
    "n = 20\n",
    "x1 = 10 * np.random.rand(n) - 5\n",
    "\n",
    "# Generate y values from the model y ~= 2x - 1 and random noise epsilon\n",
    "epsilon = np.random.randn(n)  \n",
    "y = -1 + 2*x1 + epsilon\n",
    "plt.plot(x1, y, marker='o', linestyle='none')\n",
    "plt.show()"
   ]
  },
  {
   "cell_type": "code",
   "execution_count": 21,
   "id": "patient-industry",
   "metadata": {},
   "outputs": [],
   "source": [
    "def cost_function(x,y,w0,w1):\n",
    "    #  x vector of length m containing x values\n",
    "    #  y vector of length m containing y values\n",
    "    #  w0 (scalar) intercept parameter\n",
    "    #  w1 (scalar) slope parameter\n",
    "    cost = sum(0.5*( (w0 + w1*x) - y)**2)\n",
    "    return cost\n",
    "\n",
    "def gradient(x, y, w0, w1):\n",
    "    #Compute the partial derivative of the squared error cost function\n",
    "    \n",
    "    #Inputs:\n",
    "    #  x vector of length m containing x values\n",
    "    #  y vector of length m containing y values\n",
    "    #  w0 (scalar) intercept parameter\n",
    "    #  w1 (scalar) slope parameter\n",
    "\n",
    "    d_w0 = 0.0\n",
    "    d_w1 = 0.0\n",
    " \n",
    "    d_w0 = sum(w0 + x*w1 - y)\n",
    "    d_w1 = sum((w0 + x*w1 - y)*x)\n",
    "\n",
    " \n",
    "    return d_w0, d_w1 # return is a tuple"
   ]
  },
  {
   "cell_type": "code",
   "execution_count": 22,
   "id": "fitting-health",
   "metadata": {},
   "outputs": [],
   "source": [
    "iters = 200 # change as needed\n",
    "# TODO: intialize theta_0, theta_1, and step size\n",
    "w0 = 1\n",
    "w1 = 0.5\n",
    "w0_plot = []\n",
    "w1_plot =[]\n",
    "alpha = 0.01\n",
    "iters = 100\n",
    "for i in range(0, iters):\n",
    "    \n",
    "    w0_plot.append(w0)\n",
    "    w1_plot.append(w1)\n",
    "    \n",
    "    w_d = gradient(x1,y,w0,w1)\n",
    "    \n",
    "    w0 = w0 - alpha*w_d[0]\n",
    "    w1 = w1 - alpha*w_d[1]"
   ]
  },
  {
   "cell_type": "code",
   "execution_count": 23,
   "id": "individual-circulation",
   "metadata": {},
   "outputs": [
    {
     "data": {
      "image/png": "[encoded data removed]",
      "text/plain": [
       "<Figure size 432x288 with 1 Axes>"
      ]
     },
     "metadata": {
      "needs_background": "light"
     },
     "output_type": "display_data"
    }
   ],
   "source": [
    "cost_plot = []\n",
    "for i in range(0,iters):\n",
    "    cost_plot.append(cost_function(x1,y,w0_plot[i],w1_plot[i]))\n",
    "plt.plot(range(iters),cost_plot)\n",
    "y_p = w0 + w1*x1"
   ]
  },
  {
   "cell_type": "code",
   "execution_count": 24,
   "id": "stretch-crystal",
   "metadata": {},
   "outputs": [
    {
     "data": {
      "image/png": "[encoded data removed]",
      "text/plain": [
       "<Figure size 432x288 with 1 Axes>"
      ]
     },
     "metadata": {
      "needs_background": "light"
     },
     "output_type": "display_data"
    }
   ],
   "source": [
    "plt.xlabel(\"input feature x\")\n",
    "plt.ylabel(\"predicted feature y\")\n",
    "plt.title(\"Single Variable Linear Regression\")\n",
    "plt.plot(x1, y, marker='o', linestyle='none')\n",
    "plt.plot(x1,y_p)\n",
    "plt.show()"
   ]
  }
 ],
 "metadata": {
  "kernelspec": {
   "display_name": "Python 3",
   "language": "python",
   "name": "python3"
  },
  "language_info": {
   "codemirror_mode": {
    "name": "ipython",
    "version": 3
   },
   "file_extension": ".py",
   "mimetype": "text/x-python",
   "name": "python",
   "nbconvert_exporter": "python",
   "pygments_lexer": "ipython3",
   "version": "3.6.12"
  }
 },
 "nbformat": 4,
 "nbformat_minor": 5
}
